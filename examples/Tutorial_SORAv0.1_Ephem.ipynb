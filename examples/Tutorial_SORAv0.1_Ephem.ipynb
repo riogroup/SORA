{
 "cells": [
  {
   "cell_type": "markdown",
   "metadata": {},
   "source": [
    "# SORA - Stellar Occultation Reduction and Analysis\n",
    "\n",
    "## Ephemeris Object Classes\n",
    "\n",
    "The Ephemeris Classes within SORA were created to generate geocentric ephemeris for an object. The documentation at <font color=blue>add link</font> contains the details about every step.  \n",
    "\n",
    "This Jupyter-Notebook was designed as a tutorial for how to work with the LightCurve Object Class. Any further question, please contact the core team: Altair Ramos Gomes Júnior, Bruno Eduardo Morgado, Gustavo Benedetti Rossi, and Rodrigo Carlos Boufleur.\n",
    "\n",
    "### Index\n",
    "\n",
    "1. [Instantiating the Ephemeris Objects](#section_1)\n",
    "2. [Obtaining positions](#section_2)\n",
    "3. [Ksi and Eta projection](#section_3)\n",
    "4. [Adding offsets](#section_4)\n",
    "5. [Pole Position Angle and Aperture Angle](#section_5)\n",
    "6. [Apparent Magnitude](#section_5)"
   ]
  },
  {
   "cell_type": "code",
   "execution_count": 1,
   "metadata": {},
   "outputs": [],
   "source": [
    "## import the Ephemeris Classes\n",
    "from sora.ephem import EphemPlanete, EphemJPL, EphemKernel\n",
    "\n",
    "## To facilitate, sora allows to import Ephem directly from the sora package.\n",
    "from sora import EphemPlanete, EphemJPL, EphemKernel"
   ]
  },
  {
   "cell_type": "markdown",
   "metadata": {},
   "source": [
    "<a id=\"section_1\"></a>\n",
    "### 1. Instantiating the Ephemeris Objects\n",
    "\n",
    "As shown in the command above, there are 3 different types of Ephemeris Classes.\n",
    "\n",
    "- EphemPlanete - Emulates what is done by fortran codes ephemplanete.f and fit_d2_ksi_eta.\n",
    "- EphemJPL - Queries the JPL Horizons website and download ephemeris informations.\n",
    "- EphemKernel - Reads the BSP files to calculate ephemeris.\n",
    "\n",
    "**The Ephemeris Docstrings were designed to help the users. Also, each function has its Docstring containing its main purpose and the needed parameters (physical description and formats). Please, do not hesitate to use it.**"
   ]
  },
  {
   "cell_type": "markdown",
   "metadata": {},
   "source": [
    "#### 1.1. Instantiating an EphemPlanete Object\n",
    "\n",
    "In this case, a file must be given containing Julian Date, RA (in deg), DEC (in deg) and Distance (in AU), in this order, separated by an space. Please, look at the \"ephem_phoebe_ph15_jd.txt\" file for an example. Only the name of the object and the file with the ephemeris is required."
   ]
  },
  {
   "cell_type": "code",
   "execution_count": 3,
   "metadata": {},
   "outputs": [],
   "source": [
    "EphemPlanete?"
   ]
  },
  {
   "cell_type": "code",
   "execution_count": 2,
   "metadata": {},
   "outputs": [],
   "source": [
    "eph_pla = EphemPlanete(name='Phoebe', ephem='input/ascii/ephem_phoebe_ph15_jd.txt')"
   ]
  },
  {
   "cell_type": "code",
   "execution_count": 3,
   "metadata": {},
   "outputs": [
    {
     "name": "stdout",
     "output_type": "stream",
     "text": [
      "Ephemeris of Phoebe.\n",
      "Radius: 106.0 km\n",
      "Mass: 0.00e+00 kg\n",
      "\n",
      "Ephem Planete:\n",
      "Valid from 2019-06-07 02:54:00.000 until 2019-06-07 04:54:00.000\n",
      "Ephem Error: RA*cosDEC: 0.050 arcsec; DEC: 0.050 arcsec\n",
      "\n"
     ]
    }
   ],
   "source": [
    "print(eph_pla)"
   ]
  },
  {
   "cell_type": "markdown",
   "metadata": {},
   "source": [
    "#### 1.2. Instantiating an EphemJPL Object\n",
    "\n",
    "In this case, only the name of the object is required as this will be used to queries the JPL database. Another important keyword is the \"id_type\", which will be used to constrain the search of the object. For instance, if the name is \"Europa\" and the id_type is \"smallbody\" it looks the asteroid Europa, while if id_type is \"majorbody\" it looks for the Jovian satellite Europa. However, in some cases, there are still conflict name issue which solutions are being verified. A common solver is to use the IAU ID number in the name variable"
   ]
  },
  {
   "cell_type": "code",
   "execution_count": 6,
   "metadata": {},
   "outputs": [],
   "source": [
    "EphemJPL?"
   ]
  },
  {
   "cell_type": "code",
   "execution_count": 4,
   "metadata": {},
   "outputs": [],
   "source": [
    "eph_jpl = EphemJPL(name='Chariklo')"
   ]
  },
  {
   "cell_type": "code",
   "execution_count": 5,
   "metadata": {},
   "outputs": [
    {
     "name": "stdout",
     "output_type": "stream",
     "text": [
      "Ephemeris of Chariklo.\n",
      "Radius: 121.0 km\n",
      "Mass: 0.00e+00 kg\n",
      "\n",
      "Ephemeris are downloaded from Horizons website\n",
      "\n"
     ]
    }
   ],
   "source": [
    "print(eph_jpl)"
   ]
  },
  {
   "cell_type": "markdown",
   "metadata": {},
   "source": [
    "#### 1.3. Instantiating an EphemKernel Object\n",
    "\n",
    "This is the most powerful Ephemeris Class. Since it reads the BSP files directly, it is faster. What is needed here is the name of the object, the kernel code which the object can be referred, and the list of kernels. Even if only one kernel is passed, it must be a list."
   ]
  },
  {
   "cell_type": "code",
   "execution_count": 9,
   "metadata": {},
   "outputs": [],
   "source": [
    "EphemKernel?"
   ]
  },
  {
   "cell_type": "code",
   "execution_count": 6,
   "metadata": {},
   "outputs": [],
   "source": [
    "eph_ker = EphemKernel(name='Chariklo', code='2010199', kernels=['input/bsp/Chariklo.bsp', 'input/bsp/de438_small.bsp'])"
   ]
  },
  {
   "cell_type": "code",
   "execution_count": 7,
   "metadata": {
    "scrolled": true
   },
   "outputs": [
    {
     "name": "stdout",
     "output_type": "stream",
     "text": [
      "Ephemeris of Chariklo.\n",
      "Radius: 121.0 km\n",
      "Mass: 0.00e+00 kg\n",
      "\n",
      "Ephem Kernel: CHARIKLO/DE438_SMALL (code=2010199)\n",
      "Ephem Error: RA*cosDEC: 0.006 arcsec; DEC: 0.005 arcsec\n",
      "\n"
     ]
    }
   ],
   "source": [
    "print(eph_ker)"
   ]
  },
  {
   "cell_type": "markdown",
   "metadata": {},
   "source": [
    "#### 1.4 Other parameters\n",
    "\n",
    "All the 3 Ephemeris Classes allow for the user to pass physical parameter, like radius, mass, the absolute magnitude (H), the Phase slope (G) and the ephemeris error in RA*cosDEC and DEC\n",
    "\n",
    "If not given, the radius and ephemeris error will be downloaded from our online database."
   ]
  },
  {
   "cell_type": "code",
   "execution_count": 8,
   "metadata": {},
   "outputs": [],
   "source": [
    "eph_ker = EphemKernel(name='Chariklo', code='2010199', kernels=['input/bsp/Chariklo.bsp', 'input/bsp/de438_small.bsp'],\n",
    "                      radius=75, mass=4.2e18, error_ra=0.02, error_dec=0.02)"
   ]
  },
  {
   "cell_type": "code",
   "execution_count": 9,
   "metadata": {},
   "outputs": [
    {
     "name": "stdout",
     "output_type": "stream",
     "text": [
      "Ephemeris of Chariklo.\n",
      "Radius: 75.0 km\n",
      "Mass: 4.20e+18 kg\n",
      "\n",
      "Ephem Kernel: CHARIKLO/DE438_SMALL (code=2010199)\n",
      "Ephem Error: RA*cosDEC: 0.020 arcsec; DEC: 0.020 arcsec\n",
      "\n"
     ]
    }
   ],
   "source": [
    "print(eph_ker)"
   ]
  },
  {
   "cell_type": "markdown",
   "metadata": {},
   "source": [
    "### 2. Obtaining positions\n",
    "\n",
    "The Ephemeris allows the user to get the on-sky geocentric position of the object for a certain time. This function does not exist for the EphemPlanete Class since, in this case, the ephemeris is an input parameter. The returned variable is an Astropy SkyCoord object, so their functions can be used."
   ]
  },
  {
   "cell_type": "code",
   "execution_count": 14,
   "metadata": {},
   "outputs": [],
   "source": [
    "eph_ker.get_position?"
   ]
  },
  {
   "cell_type": "code",
   "execution_count": 10,
   "metadata": {
    "scrolled": true
   },
   "outputs": [
    {
     "name": "stdout",
     "output_type": "stream",
     "text": [
      "<SkyCoord (ICRS): (ra, dec, distance) in (deg, deg, km)\n",
      "    (283.86685123, -31.52237927, 2.19331444e+09)>\n"
     ]
    }
   ],
   "source": [
    "pos = eph_ker.get_position('2017-06-22 00:00:00')\n",
    "print(pos)"
   ]
  },
  {
   "cell_type": "code",
   "execution_count": 11,
   "metadata": {},
   "outputs": [
    {
     "name": "stdout",
     "output_type": "stream",
     "text": [
      "283d52m00.6644s\n",
      "-31d31m20.5654s\n",
      "14.661401433721714 AU\n",
      "18 55 28.04429 -31 31 20.56536\n"
     ]
    }
   ],
   "source": [
    "print(pos.ra)\n",
    "print(pos.dec)\n",
    "print(pos.distance.to('AU'))\n",
    "print(pos.to_string('hmsdms', precision=5, sep=' '))"
   ]
  },
  {
   "cell_type": "code",
   "execution_count": 12,
   "metadata": {},
   "outputs": [
    {
     "data": {
      "text/plain": [
       "<SkyCoord (ICRS): (ra, dec, distance) in (deg, deg, AU)\n",
       "    (283.86685473, -31.52237985, 14.66140135)>"
      ]
     },
     "execution_count": 12,
     "metadata": {},
     "output_type": "execute_result"
    }
   ],
   "source": [
    "eph_jpl.get_position('2017-06-22 00:00:00')"
   ]
  },
  {
   "cell_type": "markdown",
   "metadata": {},
   "source": [
    "<a id=\"section_3\"></a>\n",
    "### 3. Ksi and Eta projection\n",
    "\n",
    "Ephemeris objects calculates the orthographic projection (ksi and eta) of a site in the direction of a star given the following function. Ksi is in the East direction and Eta in the North direction.\n",
    "\n",
    "The coordinates of the star given must be in the Geocentric Celestial Reference System (GCRS).\n",
    "\n",
    "This is calculated automaticaly in Occultation."
   ]
  },
  {
   "cell_type": "code",
   "execution_count": 17,
   "metadata": {},
   "outputs": [
    {
     "data": {
      "text/plain": [
       "\u001b[0;31mSignature:\u001b[0m \u001b[0meph_ker\u001b[0m\u001b[0;34m.\u001b[0m\u001b[0mget_ksi_eta\u001b[0m\u001b[0;34m(\u001b[0m\u001b[0mtime\u001b[0m\u001b[0;34m,\u001b[0m \u001b[0mstar\u001b[0m\u001b[0;34m)\u001b[0m\u001b[0;34m\u001b[0m\u001b[0;34m\u001b[0m\u001b[0m\n",
       "\u001b[0;31mDocstring:\u001b[0m\n",
       "Returns the on-sky position of the ephemeris relative to a star.\n",
       "\n",
       "Parameters:\n",
       "time (int, float):Time from which to calculate the position.\n",
       "star (str, SkyCoord):The coordinate of the star in the same frame as the ephemeris.\n",
       "\n",
       "Returns:\n",
       "ksi, eta (float): on-sky position of the ephemeris relative to a star\n",
       "\u001b[0;31mFile:\u001b[0m      /mnt/homedir/occultation/SORA/sora/ephem.py\n",
       "\u001b[0;31mType:\u001b[0m      method\n"
      ]
     },
     "metadata": {},
     "output_type": "display_data"
    }
   ],
   "source": [
    "eph_ker.get_ksi_eta?"
   ]
  },
  {
   "cell_type": "code",
   "execution_count": 13,
   "metadata": {},
   "outputs": [
    {
     "data": {
      "text/plain": [
       "(1059.3876121640205, 522.2713452577591)"
      ]
     },
     "execution_count": 13,
     "metadata": {},
     "output_type": "execute_result"
    }
   ],
   "source": [
    "eph_ker.get_ksi_eta(time='2017-06-22 21:18:00', star='18 55 15.65250 -31 31 21.67051')"
   ]
  },
  {
   "cell_type": "code",
   "execution_count": 14,
   "metadata": {},
   "outputs": [
    {
     "data": {
      "text/plain": [
       "(1173.7811108969795, 499.7081124443013)"
      ]
     },
     "execution_count": 14,
     "metadata": {},
     "output_type": "execute_result"
    }
   ],
   "source": [
    "eph_jpl.get_ksi_eta(time='2017-06-22 21:18:00', star='18 55 15.65250 -31 31 21.67051')"
   ]
  },
  {
   "cell_type": "markdown",
   "metadata": {},
   "source": [
    "**In the case of EphemPlanete, the time given must be in the range of the input ephemeris.**"
   ]
  },
  {
   "cell_type": "code",
   "execution_count": 15,
   "metadata": {},
   "outputs": [
    {
     "name": "stdout",
     "output_type": "stream",
     "text": [
      "Ephemeris of Phoebe.\n",
      "Radius: 106.0 km\n",
      "Mass: 0.00e+00 kg\n",
      "\n",
      "Ephem Planete:\n",
      "Valid from 2019-06-07 02:54:00.000 until 2019-06-07 04:54:00.000\n",
      "Ephem Error: RA*cosDEC: 0.050 arcsec; DEC: 0.050 arcsec\n",
      "\n"
     ]
    }
   ],
   "source": [
    "print(eph_pla)"
   ]
  },
  {
   "cell_type": "code",
   "execution_count": 16,
   "metadata": {},
   "outputs": [
    {
     "name": "stdout",
     "output_type": "stream",
     "text": [
      "Fitting ephemeris position relative to star coordinate 19h21m18.632s -21d44m25.3924s\n",
      "ksi = aksi*t² + bksi*t + cksi\n",
      "eta = aeta*t² + beta*t + ceta\n",
      "t=(jd-2458641.62083333)/(2458641.70416667-2458641.62083333)\n",
      "        aksi=-74.33578570364584\n",
      "        bksi=-120036.66964478238\n",
      "        cksi=56728.18870944259\n",
      "        aeta=-11.579369273364579\n",
      "        beta=-17144.75884811901\n",
      "        ceta=6972.329990726479\n",
      "Residual RMS: ksi=0.004 km, eta=0.001 km\n"
     ]
    },
    {
     "data": {
      "text/plain": [
       "(-3685.746063311948, -1656.79625359059)"
      ]
     },
     "execution_count": 16,
     "metadata": {},
     "output_type": "execute_result"
    }
   ],
   "source": [
    "eph_pla.get_ksi_eta(time='2019-06-07 03:54:22.60', star='19 21 18.63201 -21 44 25.3924')"
   ]
  },
  {
   "cell_type": "markdown",
   "metadata": {},
   "source": [
    "**For EphemPlanete, the user can also make the fit before running get_ksi_eta. If the fit is done, get_ksi_eta will only need the time param.**"
   ]
  },
  {
   "cell_type": "code",
   "execution_count": 22,
   "metadata": {},
   "outputs": [
    {
     "data": {
      "text/plain": [
       "\u001b[0;31mSignature:\u001b[0m \u001b[0meph_pla\u001b[0m\u001b[0;34m.\u001b[0m\u001b[0mfit_d2_ksi_eta\u001b[0m\u001b[0;34m(\u001b[0m\u001b[0mstar\u001b[0m\u001b[0;34m,\u001b[0m \u001b[0mlog\u001b[0m\u001b[0;34m=\u001b[0m\u001b[0;32mTrue\u001b[0m\u001b[0;34m)\u001b[0m\u001b[0;34m\u001b[0m\u001b[0;34m\u001b[0m\u001b[0m\n",
       "\u001b[0;31mDocstring:\u001b[0m\n",
       "Fits the on-sky ephemeris position relative to a star\n",
       "\n",
       "Parameters:\n",
       "    star (str, SkyCoord):The coordinate of the star in the same frame as the ephemeris.\n",
       "    log (bool): if fit log is to printed. Default: True\n",
       "\u001b[0;31mFile:\u001b[0m      /mnt/homedir/occultation/SORA/sora/ephem.py\n",
       "\u001b[0;31mType:\u001b[0m      method\n"
      ]
     },
     "metadata": {},
     "output_type": "display_data"
    }
   ],
   "source": [
    "eph_pla.fit_d2_ksi_eta?"
   ]
  },
  {
   "cell_type": "code",
   "execution_count": 17,
   "metadata": {},
   "outputs": [
    {
     "name": "stdout",
     "output_type": "stream",
     "text": [
      "Fitting ephemeris position relative to star coordinate 19h21m18.632s -21d44m25.3923s\n",
      "ksi = aksi*t² + bksi*t + cksi\n",
      "eta = aeta*t² + beta*t + ceta\n",
      "t=(jd-2458641.62083333)/(2458641.70416667-2458641.62083333)\n",
      "        aksi=-74.33578570364584\n",
      "        bksi=-120036.66964478238\n",
      "        cksi=56728.18870944259\n",
      "        aeta=-11.579369458933602\n",
      "        beta=-17144.7587881425\n",
      "        ceta=6971.659735843644\n",
      "Residual RMS: ksi=0.004 km, eta=0.001 km\n"
     ]
    }
   ],
   "source": [
    "eph_pla.fit_d2_ksi_eta('19 21 18.63201 -21 44 25.3923')"
   ]
  },
  {
   "cell_type": "code",
   "execution_count": 18,
   "metadata": {},
   "outputs": [
    {
     "data": {
      "text/plain": [
       "(-3685.746063311948, -1657.4664783438866)"
      ]
     },
     "execution_count": 18,
     "metadata": {},
     "output_type": "execute_result"
    }
   ],
   "source": [
    "eph_pla.get_ksi_eta(time='2019-06-07 03:54:22.60')"
   ]
  },
  {
   "cell_type": "markdown",
   "metadata": {},
   "source": [
    "<a id=\"section_4\"></a>\n",
    "### 4. Adding Offsets\n",
    "\n",
    "If an ephemeris offset was obtained from astrometry, it can be added to the Ephemeris objects using add_offset. This values are given in $\\Delta\\alpha\\cos\\delta$ and $\\Delta\\delta$ in mas."
   ]
  },
  {
   "cell_type": "code",
   "execution_count": 25,
   "metadata": {},
   "outputs": [
    {
     "data": {
      "text/plain": [
       "\u001b[0;31mSignature:\u001b[0m \u001b[0meph_ker\u001b[0m\u001b[0;34m.\u001b[0m\u001b[0madd_offset\u001b[0m\u001b[0;34m(\u001b[0m\u001b[0mda_cosdec\u001b[0m\u001b[0;34m,\u001b[0m \u001b[0mddec\u001b[0m\u001b[0;34m)\u001b[0m\u001b[0;34m\u001b[0m\u001b[0;34m\u001b[0m\u001b[0m\n",
       "\u001b[0;31mDocstring:\u001b[0m\n",
       "Add an offset to the Ephemeris\n",
       "\n",
       "Parameters:\n",
       "    da_cosdec (int, float):Delta_alpha_cos_delta in mas\n",
       "    ddec (int, float):Delta_delta in mas\n",
       "\u001b[0;31mFile:\u001b[0m      /mnt/homedir/occultation/SORA/sora/ephem.py\n",
       "\u001b[0;31mType:\u001b[0m      method\n"
      ]
     },
     "metadata": {},
     "output_type": "display_data"
    }
   ],
   "source": [
    "eph_ker.add_offset?"
   ]
  },
  {
   "cell_type": "code",
   "execution_count": 19,
   "metadata": {},
   "outputs": [
    {
     "data": {
      "text/plain": [
       "'18h55m28.0443s -31d31m20.5654s'"
      ]
     },
     "execution_count": 19,
     "metadata": {},
     "output_type": "execute_result"
    }
   ],
   "source": [
    "eph_ker.get_position('2017-06-22 00:00:00').to_string('hmsdms')"
   ]
  },
  {
   "cell_type": "code",
   "execution_count": 20,
   "metadata": {},
   "outputs": [],
   "source": [
    "eph_ker.add_offset(40, 50)\n",
    "eph_jpl.add_offset(40, 50)\n",
    "eph_pla.add_offset(40, 50)"
   ]
  },
  {
   "cell_type": "code",
   "execution_count": 21,
   "metadata": {},
   "outputs": [
    {
     "data": {
      "text/plain": [
       "'18h55m28.0474s -31d31m20.5154s'"
      ]
     },
     "execution_count": 21,
     "metadata": {},
     "output_type": "execute_result"
    }
   ],
   "source": [
    "eph_ker.get_position('2017-06-22 00:00:00').to_string('hmsdms')"
   ]
  },
  {
   "cell_type": "markdown",
   "metadata": {},
   "source": [
    "<a id=\"section_5\"></a>\n",
    "### 5. Pole Position Angle and Aperture Angle\n",
    "\n",
    "For a given time, and given pole coordinate, EphemJPL and EphemKernel are able to calculate the Pole Position Angle relative to the North pole in the ICRS and the Aperture Angle of the object pole coordinate."
   ]
  },
  {
   "cell_type": "code",
   "execution_count": 29,
   "metadata": {},
   "outputs": [
    {
     "data": {
      "text/plain": [
       "\u001b[0;31mSignature:\u001b[0m \u001b[0meph_ker\u001b[0m\u001b[0;34m.\u001b[0m\u001b[0mget_pole_position_angle\u001b[0m\u001b[0;34m(\u001b[0m\u001b[0mpole\u001b[0m\u001b[0;34m,\u001b[0m \u001b[0mtime\u001b[0m\u001b[0;34m)\u001b[0m\u001b[0;34m\u001b[0m\u001b[0;34m\u001b[0m\u001b[0m\n",
       "\u001b[0;31mDocstring:\u001b[0m\n",
       "Returns the geocentric position of the object.\n",
       "\n",
       "Parameters:\n",
       "pole (str, astropy.SkyCoord):Coordinate of the pole ICRS.\n",
       "time (int, float): Time from which to calculate the position.\n",
       "\n",
       "Returns:\n",
       "position_angle (float): Position angle of the pole, in degrees\n",
       "aperture_angle (float): Apeture angle of the pole, in degrees\n",
       "\u001b[0;31mFile:\u001b[0m      /mnt/homedir/occultation/SORA/sora/ephem.py\n",
       "\u001b[0;31mType:\u001b[0m      method\n"
      ]
     },
     "metadata": {},
     "output_type": "display_data"
    }
   ],
   "source": [
    "eph_ker.get_pole_position_angle?"
   ]
  },
  {
   "cell_type": "code",
   "execution_count": 22,
   "metadata": {},
   "outputs": [
    {
     "name": "stdout",
     "output_type": "stream",
     "text": [
      "305.1787848766948 deg\n",
      "46.652999109286604 deg\n"
     ]
    }
   ],
   "source": [
    "pos_ang, ap_ang = eph_ker.get_pole_position_angle('10 30 00 +45 50 00', '2017-06-22 00:00:00')\n",
    "print(pos_ang)\n",
    "print(ap_ang)"
   ]
  },
  {
   "cell_type": "markdown",
   "metadata": {},
   "source": [
    "<a id=\"section_6\"></a>\n",
    "### 6. Apparent Magnitude\n",
    "\n",
    "The Ephemeris objectcs calculates the Apparent Magnitude of an object using the H and G given by the user. The equation is:\n",
    "\n",
    "$\\phi_0 = \\exp(-3.33(\\tan(0.5 phase)^{0.63}))$\n",
    "\n",
    "$\\phi_1 = \\exp(-1.87(\\tan(0.5 phase)^{1.22}))$\n",
    "\n",
    "$apmag = H - 2.5\\log10((1-G)\\phi_0 + G\\phi_1) + 5\\log10(sundist*dist)$\n",
    "\n",
    "However, if these values are not given by the user, the apparent magnitude will be downloaded from JPL Horizons website. If JPL has H and G, this values will be saved and then used for calculation."
   ]
  },
  {
   "cell_type": "code",
   "execution_count": 23,
   "metadata": {},
   "outputs": [
    {
     "name": "stdout",
     "output_type": "stream",
     "text": [
      "nan nan\n"
     ]
    }
   ],
   "source": [
    "print(eph_ker.H, eph_ker.G)"
   ]
  },
  {
   "cell_type": "code",
   "execution_count": 24,
   "metadata": {},
   "outputs": [
    {
     "data": {
      "text/plain": [
       "18.65"
      ]
     },
     "execution_count": 24,
     "metadata": {},
     "output_type": "execute_result"
    }
   ],
   "source": [
    "# downloading from JPL\n",
    "eph_ker.apparent_magnitude('2017-06-22 00:00:00')"
   ]
  },
  {
   "cell_type": "code",
   "execution_count": 25,
   "metadata": {},
   "outputs": [
    {
     "name": "stdout",
     "output_type": "stream",
     "text": [
      "6.7 0.15\n"
     ]
    }
   ],
   "source": [
    "print(eph_ker.H, eph_ker.G)"
   ]
  },
  {
   "cell_type": "code",
   "execution_count": 26,
   "metadata": {
    "scrolled": true
   },
   "outputs": [
    {
     "data": {
      "text/plain": [
       "18.649144367911177"
      ]
     },
     "execution_count": 26,
     "metadata": {},
     "output_type": "execute_result"
    }
   ],
   "source": [
    "# calculating using H and G\n",
    "eph_ker.apparent_magnitude('2017-06-22 00:00:00')"
   ]
  },
  {
   "cell_type": "markdown",
   "metadata": {},
   "source": [
    "**This Jupyter-Notebook was designed as a tutorial for how to work with the Ephemeris Object Classes. More information about the other classes, please refer to their specif Jupyter-Notebook. Any further question, please contact the core team: Altair Ramos Gomes Júnior, Bruno Eduardo Morgado, Gustavo Benedetti Rossi, and Rodrigo Carlos Boufleur.**\n",
    "\n",
    "# The End"
   ]
  }
 ],
 "metadata": {
  "kernelspec": {
   "display_name": "Python 3",
   "language": "python",
   "name": "python3"
  },
  "language_info": {
   "codemirror_mode": {
    "name": "ipython",
    "version": 3
   },
   "file_extension": ".py",
   "mimetype": "text/x-python",
   "name": "python",
   "nbconvert_exporter": "python",
   "pygments_lexer": "ipython3",
   "version": "3.7.4"
  }
 },
 "nbformat": 4,
 "nbformat_minor": 4
}
