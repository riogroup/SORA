{
 "cells": [
  {
   "cell_type": "markdown",
   "metadata": {},
   "source": [
    "# SORA - Stellar Occultation Reduction and Analysis\n",
    "\n",
    "## _prediction()_ and PredictionTable Object Class\n",
    "\n",
    "The prediction module within SORA was created to predict stellar occultation, organize the prediction and plot the occultation maps. The documentation at <font color=blue>add link</font> contains the details about every step.  \n",
    "\n",
    "This Jupyter-Notebook was designed as a tutorial for how to work with the prediction module. Any further question, please contact the core team: Altair Ramos Gomes Júnior, Bruno Eduardo Morgado, Gustavo Benedetti Rossi, and Rodrigo Carlos Boufleur.\n",
    "\n",
    "### Index\n",
    "\n",
    "1. [Predicting stellar occultation](#section_1)\n",
    "2. [Setting and/or modifying parameters](#section_2)\n",
    "3. [Apparent Sidereal Time](#section_3)\n",
    "4. [Ksi and Eta projection](#section_4)\n",
    "5. [MPC observatories](#section_5)"
   ]
  },
  {
   "cell_type": "markdown",
   "metadata": {},
   "source": [
    "<a id=\"section_1\"></a>\n",
    "### 1. Predicting stellar occultation\n",
    "\n",
    "To predict a stellar occultation, the function _prediction()_ must be used. It will need an EphemKernel Object and the time interval for the search. The function will generate the ephemeris within the given interval (with a default  step of 60 seconds between positions, that may be changed by the user) and download the star coordinates from Vizier. For every star, it checks the closest ephemeris. An occultation is identified if the distance is smaller than the radius of the Earth plus the radius of the object (given in Ephem) plus the error of the ephemeris (multiplied by a sigma factor given by the user). In the next step, the coordinate of the star is propagated to date using proper motion and parallax. It results in the occultation parameters, such as the Closest Approach distance, the Position Angle, Velocity, etc.\n",
    "\n",
    "The function returns a PredictionTable with all the information.\n",
    "\n",
    "**All functions have their Docstring containing its main purpose and the needed parameters (physical description and formats). Please, do not hesitate to use it.**"
   ]
  },
  {
   "cell_type": "code",
   "execution_count": 1,
   "metadata": {},
   "outputs": [],
   "source": [
    "from sora.prediction import prediction"
   ]
  },
  {
   "cell_type": "code",
   "execution_count": 2,
   "metadata": {},
   "outputs": [],
   "source": [
    "prediction?"
   ]
  },
  {
   "cell_type": "markdown",
   "metadata": {},
   "source": [
    "**Importing and defining the Ephemeris to be used.**"
   ]
  },
  {
   "cell_type": "code",
   "execution_count": 3,
   "metadata": {},
   "outputs": [],
   "source": [
    "from sora.ephem import EphemKernel\n",
    "eph_chariklo = EphemKernel(name='Chariklo', code='2010199', kernels=['input/bsp/Chariklo.bsp', 'input/bsp/de438_small.bsp'])"
   ]
  },
  {
   "cell_type": "code",
   "execution_count": 4,
   "metadata": {},
   "outputs": [
    {
     "name": "stdout",
     "output_type": "stream",
     "text": [
      "Generating Ephemeris ...\n",
      "Ephemeris was split in 3 parts for better search of stars\n",
      "\n",
      "Searching occultations in part 1/3\n",
      "Downloading stars ...\n",
      "Identifying occultations ...\n",
      "\n",
      "Searching occultations in part 2/3\n",
      "Downloading stars ...\n",
      "Identifying occultations ...\n",
      "\n",
      "Searching occultations in part 3/3\n",
      "Downloading stars ...\n",
      "Identifying occultations ...\n",
      "8 occultations found\n"
     ]
    }
   ],
   "source": [
    "pred = prediction(eph_chariklo,time_beg='2017-06-20 00:00:00', time_end='2017-07-01 00:00:00', mag_lim=18, divs=3)"
   ]
  },
  {
   "cell_type": "markdown",
   "metadata": {},
   "source": [
    "<a id=\"section_2\"></a>\n",
    "### 2. The PredictionTable\n",
    "\n",
    "The resulting variable of the prediction function is a PredictionTable Object. The PredictionTable Class was created to have all the information about the occultations predicted, plot occultation maps and save the table in other formats.\n",
    "\n",
    "**The PredictionTable is a class that inherits all methods from Astropy.table.Table. All the functions present in Astropy Table should work for PredictionTable.**\n",
    "\n",
    "More information about it at https://docs.astropy.org/en/stable/table/"
   ]
  },
  {
   "cell_type": "markdown",
   "metadata": {},
   "source": [
    "**if the user asks to print the prediction, a summary of the table is shown.**"
   ]
  },
  {
   "cell_type": "code",
   "execution_count": 6,
   "metadata": {},
   "outputs": [
    {
     "name": "stdout",
     "output_type": "stream",
     "text": [
      "         Epoch             ICRS Star Coord at Epoch    ...  GAIA-DR2 Source ID\n",
      "                                                       ...                    \n",
      "----------------------- ------------------------------ ... -------------------\n",
      "2017-06-21 09:57:43.550 18 55 36.17452 -31 31 19.03240 ... 6760228702284187264\n",
      "2017-06-22 02:58:36.900 18 55 26.31662 -31 31 20.38513 ... 6760228839723992320\n",
      "2017-06-22 21:18:48.250 18 55 15.65250 -31 31 21.67051 ... 6760223758801661440\n",
      "2017-06-23 21:34:37.350 18 55 01.48124 -31 31 22.44183 ... 6760223513963694208\n",
      "2017-06-24 10:13:39.750 18 54 54.06758 -31 31 22.36730 ... 6760226503261782656\n",
      "2017-06-25 10:55:09.450 18 54 39.55295 -31 31 21.69987 ... 6760225163236852864\n",
      "2017-06-26 08:14:35.350 18 54 26.97506 -31 31 20.51222 ... 6760226060885482624\n",
      "2017-06-26 20:46:07.050 18 54 19.56972 -31 31 20.43304 ... 6760225712991422208\n"
     ]
    }
   ],
   "source": [
    "print(pred)"
   ]
  },
  {
   "cell_type": "markdown",
   "metadata": {},
   "source": [
    "**to print the complete table, we must use:**"
   ]
  },
  {
   "cell_type": "code",
   "execution_count": 7,
   "metadata": {},
   "outputs": [
    {
     "name": "stdout",
     "output_type": "stream",
     "text": [
      "         Epoch             ICRS Star Coord at Epoch      Geocentric Object Position    C/A    P/A    Vel     Dist    G      G*   long  loct M-G-T S-G-T  GAIA-DR2 Source ID\n",
      "                                                                                      arcsec  deg   km / s    AU    mag    mag   deg  hh:mm  deg   deg                     \n",
      "----------------------- ------------------------------ ------------------------------ ------ ------ ------ ------- ------ ------ ---- ----- ----- ----- -------------------\n",
      "2017-06-21 09:57:43.550 18 55 36.17452 -31 31 19.03240 18 55 36.17498 -31 31 19.60516  0.573 179.41 -21.84  14.663 15.268 15.364  225 00:56   128   165 6760228702284187264\n",
      "2017-06-22 02:58:36.900 18 55 26.31662 -31 31 20.38513 18 55 26.31684 -31 31 20.74213  0.357 179.55 -21.92  14.661 17.949 18.049  329 00:53   138   166 6760228839723992320\n",
      "2017-06-22 21:18:48.250 18 55 15.65250 -31 31 21.67051 18 55 15.65248 -31 31 21.62190  0.049 359.72 -22.00  14.659 14.238 14.341   53 00:50   149   166 6760223758801661440\n",
      "2017-06-23 21:34:37.350 18 55 01.48124 -31 31 22.44183 18 55 01.48121 -31 31 22.22700  0.215 359.91 -22.10  14.657 17.834 17.942   48 00:46   162   167 6760223513963694208\n",
      "2017-06-24 10:13:39.750 18 54 54.06758 -31 31 22.36730 18 54 54.06759 -31 31 22.28669  0.081   0.03 -22.15  14.656 17.948 18.059  218 00:43   167   168 6760226503261782656\n",
      "2017-06-25 10:55:09.450 18 54 39.55295 -31 31 21.69987 18 54 39.55288 -31 31 21.89148  0.192 180.24 -22.23  14.654 16.968 17.083  206 00:39   164   168 6760225163236852864\n",
      "2017-06-26 08:14:35.350 18 54 26.97506 -31 31 20.51222 18 54 26.97479 -31 31 20.99937  0.487 180.41 -22.30  14.653 17.616 17.734  245 00:35   154   169 6760226060885482624\n",
      "2017-06-26 20:46:07.050 18 54 19.56972 -31 31 20.43304 18 54 19.56986 -31 31 20.23484  0.198   0.53 -22.33  14.652 17.721 17.840   57 00:33   147   169 6760225712991422208\n"
     ]
    }
   ],
   "source": [
    "pred.pprint_all()"
   ]
  },
  {
   "cell_type": "markdown",
   "metadata": {},
   "source": [
    "*M-G-T stands for Moon-Geocenter-Target, the on-sky angle between the star and the moon*\n",
    "\n",
    "*S-G-T stands for Sun-Geocenter-Target, the on-sky angle between the star and the sun*"
   ]
  },
  {
   "cell_type": "markdown",
   "metadata": {},
   "source": [
    "**The PredictionTable can be exported to PRAIA format file**\n",
    "\n",
    "In this case, some information, such as the Gaia-DR2 Source ID, S-G-T and M-G-T, are lost."
   ]
  },
  {
   "cell_type": "code",
   "execution_count": 8,
   "metadata": {},
   "outputs": [],
   "source": [
    "pred.to_praia?"
   ]
  },
  {
   "cell_type": "code",
   "execution_count": 9,
   "metadata": {},
   "outputs": [],
   "source": [
    "pred.to_praia('output/Chariklo_occs.table')\n",
    "# Check your folder named output"
   ]
  },
  {
   "cell_type": "markdown",
   "metadata": {},
   "source": [
    "**The PredictionTable can also generate the files in the Occult Watcher feed format**\n",
    "\n",
    "These are two files, named 'LOG.dat' and 'tableOccult_update.txt'. The occult watcher designation for the object must be informed. For instance, for the satellite Himalia, the designation is \"P5M06\". If mode='append' the prediction will be appended to an existing file. If mode='restart', the files will overwritten."
   ]
  },
  {
   "cell_type": "code",
   "execution_count": 10,
   "metadata": {},
   "outputs": [],
   "source": [
    "pred.to_ow?"
   ]
  },
  {
   "cell_type": "code",
   "execution_count": 11,
   "metadata": {},
   "outputs": [],
   "source": [
    "pred.to_ow('1997CU26')"
   ]
  },
  {
   "cell_type": "markdown",
   "metadata": {},
   "source": [
    "**Using the functions from Astropy Table, the data can be exported to many other formats using the funtion 'write'**\n",
    "\n",
    "The formats allowed can be seen in https://docs.astropy.org/en/stable/io/unified.html#built-in-readers-writers. This includes latex and csv."
   ]
  },
  {
   "cell_type": "code",
   "execution_count": 12,
   "metadata": {},
   "outputs": [],
   "source": [
    "pred.write('output/prediction.tex')\n",
    "# Check your folder named output"
   ]
  },
  {
   "cell_type": "markdown",
   "metadata": {},
   "source": [
    "<a id=\"section_3\"></a>\n",
    "### 3. Using PredictionTable\n",
    "\n",
    "The PredictionTable was not created to be instantiated directly by the user. It was designed to be an insteresting output object from the prediction function. However, a PredictionTable can be instantiated from a PRAIA occultation table. For this, a PredictionTable method must be called directly as shown below."
   ]
  },
  {
   "cell_type": "code",
   "execution_count": 13,
   "metadata": {},
   "outputs": [],
   "source": [
    "from sora.prediction import PredictionTable"
   ]
  },
  {
   "cell_type": "code",
   "execution_count": 14,
   "metadata": {},
   "outputs": [],
   "source": [
    "PredictionTable.from_praia?"
   ]
  },
  {
   "cell_type": "code",
   "execution_count": 15,
   "metadata": {},
   "outputs": [],
   "source": [
    "pred_1 = PredictionTable.from_praia(filename='output/Chariklo_occs.table', name='Chariklo')"
   ]
  },
  {
   "cell_type": "code",
   "execution_count": 16,
   "metadata": {},
   "outputs": [
    {
     "name": "stdout",
     "output_type": "stream",
     "text": [
      "         Epoch             ICRS Star Coord at Epoch      Geocentric Object Position    C/A    P/A    Vel     Dist    G      G*   long  loct M-G-T S-G-T GAIA-DR2 Source ID\n",
      "                                                                                      arcsec  deg   km / s    AU    mag    mag   deg  hh:mm  deg   deg                    \n",
      "----------------------- ------------------------------ ------------------------------ ------ ------ ------ ------- ------ ------ ---- ----- ----- ----- ------------------\n",
      "2017-06-21 09:57:43.500 18 55 36.17450 -31 31 19.03240 18 55 36.17500 -31 31 19.60520  0.573 179.41 -21.84  14.660 15.304 15.400  225 00:56   128   165                   \n",
      "2017-06-22 02:58:36.900 18 55 26.31660 -31 31 20.38510 18 55 26.31680 -31 31 20.74210  0.357 179.55 -21.92  14.660 17.900 18.000  329 00:53   138   166                   \n",
      "2017-06-22 21:18:48.200 18 55 15.65250 -31 31 21.67050 18 55 15.65250 -31 31 21.62190  0.049 359.72 -22.00  14.660 14.197 14.300   53 00:50   149   166                   \n",
      "2017-06-23 21:34:37.300 18 55 01.48120 -31 31 22.44180 18 55 01.48120 -31 31 22.22700  0.215 359.91 -22.10  14.660 17.792 17.900   48 00:46   162   167                   \n",
      "2017-06-24 10:13:39.700 18 54 54.06760 -31 31 22.36730 18 54 54.06760 -31 31 22.28670  0.081   0.03 -22.15  14.660 17.989 18.100  218 00:43   167   168                   \n",
      "2017-06-25 10:55:09.400 18 54 39.55290 -31 31 21.69990 18 54 39.55290 -31 31 21.89150  0.192 180.24 -22.23  14.650 16.985 17.100  206 00:39   164   168                   \n",
      "2017-06-26 08:14:35.300 18 54 26.97510 -31 31 20.51220 18 54 26.97480 -31 31 20.99940  0.487 180.41 -22.30  14.650 17.582 17.700  245 00:35   154   169                   \n",
      "2017-06-26 20:46:07.000 18 54 19.56970 -31 31 20.43300 18 54 19.56990 -31 31 20.23480  0.198   0.53 -22.33  14.650 17.680 17.800   57 00:33   147   169                   \n"
     ]
    }
   ],
   "source": [
    "pred_1.pprint_all()"
   ]
  },
  {
   "cell_type": "markdown",
   "metadata": {},
   "source": [
    "<a id=\"section_4\"></a>\n",
    "### 4. Plotting occultation maps\n",
    "\n",
    "SORA is also able to generate an occultation map. The only required parameters are the occultation parameters. The function also has many inputs to configure the plot.\n",
    "\n",
    "The first time the function is called, cartopy will download some data referring to the features presented in the map, such as the country and state division, lakes, rivers, etc."
   ]
  },
  {
   "cell_type": "code",
   "execution_count": 17,
   "metadata": {},
   "outputs": [],
   "source": [
    "from sora.prediction import plot_occ_map"
   ]
  },
  {
   "cell_type": "code",
   "execution_count": 18,
   "metadata": {},
   "outputs": [],
   "source": [
    "plot_occ_map?"
   ]
  },
  {
   "cell_type": "markdown",
   "metadata": {},
   "source": [
    "**To make it easier to plot the predictions, the** _PredictionTable.plot_occ_map()_ **function can be called which automatically fills the required parameters.**\n",
    "\n",
    "To plot the map for all the predictions\n"
   ]
  },
  {
   "cell_type": "code",
   "execution_count": 19,
   "metadata": {},
   "outputs": [
    {
     "name": "stdout",
     "output_type": "stream",
     "text": [
      "Chariklo_2017-06-21T09:57:43.550.png generated\n",
      "Chariklo_2017-06-22T02:58:36.900.png generated\n",
      "Chariklo_2017-06-22T21:18:48.250.png generated\n",
      "Chariklo_2017-06-23T21:34:37.350.png generated\n",
      "Chariklo_2017-06-24T10:13:39.750.png generated\n",
      "Chariklo_2017-06-25T10:55:09.450.png generated\n",
      "Chariklo_2017-06-26T08:14:35.350.png generated\n",
      "Chariklo_2017-06-26T20:46:07.050.png generated\n"
     ]
    }
   ],
   "source": [
    "pred.plot_occ_map()"
   ]
  },
  {
   "cell_type": "markdown",
   "metadata": {},
   "source": [
    "To plot the map for only one prediction, just give a item to the PredictionTable object."
   ]
  },
  {
   "cell_type": "code",
   "execution_count": 20,
   "metadata": {},
   "outputs": [
    {
     "name": "stdout",
     "output_type": "stream",
     "text": [
      "Chariklo_2017-06-21T09:57:43.550.png generated\n"
     ]
    }
   ],
   "source": [
    "pred[0].plot_occ_map()"
   ]
  },
  {
   "cell_type": "markdown",
   "metadata": {},
   "source": [
    "**The PredictionTable can also be plotted by giving the date of the occultation. All the occultations that matches the date will be plotted.**\n",
    "\n",
    "The date can be as constrained as the user wants, and must match the text that appears in the 'Epoch' column."
   ]
  },
  {
   "cell_type": "code",
   "execution_count": 21,
   "metadata": {},
   "outputs": [
    {
     "name": "stdout",
     "output_type": "stream",
     "text": [
      "Chariklo_2017-06-26T08:14:35.350.png generated\n",
      "Chariklo_2017-06-26T20:46:07.050.png generated\n"
     ]
    }
   ],
   "source": [
    "pred['2017-06-26'].plot_occ_map()"
   ]
  },
  {
   "cell_type": "markdown",
   "metadata": {},
   "source": [
    "<a id=\"section_5\"></a>\n",
    "### 5. Occultation parameters\n",
    "\n",
    "Finally, a function is implemented in the prediction module which calculates the occultation parameters. For this function, it must be passed a Star objetct, an Ephemeris object (it can be any of the Ephemeris classes) and a time. The time does not need to be precise, but it must be close within 10 minutes from the Closest Approach."
   ]
  },
  {
   "cell_type": "code",
   "execution_count": 22,
   "metadata": {},
   "outputs": [],
   "source": [
    "from sora.prediction import occ_params"
   ]
  },
  {
   "cell_type": "code",
   "execution_count": 23,
   "metadata": {},
   "outputs": [],
   "source": [
    "occ_params?"
   ]
  },
  {
   "cell_type": "code",
   "execution_count": 24,
   "metadata": {},
   "outputs": [],
   "source": [
    "from sora.star import Star\n",
    "s = Star(code='6760225712991422208', log=False)"
   ]
  },
  {
   "cell_type": "code",
   "execution_count": 25,
   "metadata": {},
   "outputs": [
    {
     "name": "stdout",
     "output_type": "stream",
     "text": [
      "Time of the CA:   2017-06-26 20:46:07.050 UTC\n",
      "Closest Approuch: 0.198 arcsec\n",
      "Position Angle:   0.529 deg\n",
      "Shadow velocity:  -22.332 km / s\n",
      "Object distance:  14.65230 AU\n"
     ]
    }
   ],
   "source": [
    "tca, ca, pa, vel, dist = occ_params(s, eph_chariklo, time='2017-06-26 20:40')\n",
    "print('Time of the CA:   {} UTC'.format(tca))\n",
    "print('Closest Approuch: {:.3f}'.format(ca))\n",
    "print('Position Angle:   {:.3f}'.format(pa))\n",
    "print('Shadow velocity:  {:.3f}'.format(vel))\n",
    "print('Object distance:  {:.5f}'.format(dist))"
   ]
  },
  {
   "cell_type": "markdown",
   "metadata": {},
   "source": [
    "**This Jupyter-Notebook was designed as a tutorial for how to work with the** _prediction()_ **functions and PredictionTable Object Class. More information about the other classes, please refer to their specif Jupyter-Notebook. Any further question, please contact the core team: Altair Ramos Gomes Júnior, Bruno Eduardo Morgado, Gustavo Benedetti Rossi, and Rodrigo Carlos Boufleur.**\n",
    "\n",
    "# The End"
   ]
  }
 ],
 "metadata": {
  "kernelspec": {
   "display_name": "Python 3",
   "language": "python",
   "name": "python3"
  },
  "language_info": {
   "codemirror_mode": {
    "name": "ipython",
    "version": 3
   },
   "file_extension": ".py",
   "mimetype": "text/x-python",
   "name": "python",
   "nbconvert_exporter": "python",
   "pygments_lexer": "ipython3",
   "version": "3.7.4"
  }
 },
 "nbformat": 4,
 "nbformat_minor": 4
}
