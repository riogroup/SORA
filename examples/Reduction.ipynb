{
 "cells": [
  {
   "cell_type": "code",
   "execution_count": 1,
   "metadata": {},
   "outputs": [
    {
     "ename": "ImportError",
     "evalue": "cannot import name 'Ephemeris' from 'sora' (/home/rcboufleur/Projects/SORA/sora/__init__.py)",
     "output_type": "error",
     "traceback": [
      "\u001b[0;31m---------------------------------------------------------------------------\u001b[0m",
      "\u001b[0;31mImportError\u001b[0m                               Traceback (most recent call last)",
      "\u001b[0;32m<ipython-input-1-b48ba4539c6c>\u001b[0m in \u001b[0;36m<module>\u001b[0;34m\u001b[0m\n\u001b[1;32m      1\u001b[0m \u001b[0;31m## import the objects from the sora package\u001b[0m\u001b[0;34m\u001b[0m\u001b[0;34m\u001b[0m\u001b[0;34m\u001b[0m\u001b[0m\n\u001b[0;32m----> 2\u001b[0;31m \u001b[0;32mfrom\u001b[0m \u001b[0msora\u001b[0m \u001b[0;32mimport\u001b[0m \u001b[0mStar\u001b[0m\u001b[0;34m,\u001b[0m \u001b[0mObserver\u001b[0m\u001b[0;34m,\u001b[0m \u001b[0mEphemeris\u001b[0m\u001b[0;34m,\u001b[0m \u001b[0mOccultation\u001b[0m\u001b[0;34m\u001b[0m\u001b[0;34m\u001b[0m\u001b[0m\n\u001b[0m\u001b[1;32m      3\u001b[0m \u001b[0;32mimport\u001b[0m \u001b[0mastropy\u001b[0m\u001b[0;34m.\u001b[0m\u001b[0munits\u001b[0m \u001b[0;32mas\u001b[0m \u001b[0mu\u001b[0m\u001b[0;34m\u001b[0m\u001b[0;34m\u001b[0m\u001b[0m\n",
      "\u001b[0;31mImportError\u001b[0m: cannot import name 'Ephemeris' from 'sora' (/home/rcboufleur/Projects/SORA/sora/__init__.py)"
     ]
    }
   ],
   "source": [
    "## import the objects from the sora package\n",
    "from sora import Star, Observer, Ephemeris, Occultation\n",
    "import astropy.units as u"
   ]
  },
  {
   "cell_type": "markdown",
   "metadata": {},
   "source": [
    "#### defining star"
   ]
  },
  {
   "cell_type": "code",
   "execution_count": null,
   "metadata": {},
   "outputs": [],
   "source": [
    "star = Star(ra='13 50 45', dec='-23 14 21', distance=30*u.pc)\n",
    "star.apparent_radius(distance=10*u.AU) # it will search for the star radius on the gaia catalogue or the magnitudes in some catalogue to calculate distance\n",
    "\n",
    "star2 = Star(gaia_id='546164465168') # it will search the star in the gaia catalogue and get all the informations needed"
   ]
  },
  {
   "cell_type": "markdown",
   "metadata": {},
   "source": [
    "#### defining observations"
   ]
  },
  {
   "cell_type": "code",
   "execution_count": null,
   "metadata": {},
   "outputs": [],
   "source": [
    "lna = Observer(874) # and it searchs in a database the location\n",
    "opd = Observer(lon='-45 34 57', lat='-22 32 04', height=1864)"
   ]
  },
  {
   "cell_type": "code",
   "execution_count": null,
   "metadata": {},
   "outputs": [],
   "source": [
    "lna.fit_curve('light_curve.txt', star=star) # and it saves the curve, and calculates the immersion and emersion, and also:\n",
    "lna.fit_curve('light_curve.txt', 'negative') # in this case it does not fit, but saves the curve and gets start and final instants\n",
    "\n",
    "# or we can define the instants of immersion and emersion directly\n",
    "lna.immersion = Time('2019-12-06 13:00:00')\n",
    "lna.emersion = Time('2019-12-06 13:01:00')\n",
    "opd.obs_begin = Time('2019-12-06 12:50:00') # in case of negative\n",
    "opd.obs_end = Time('2019-12-06 13:20:00') # in case of negative\n",
    "\n",
    "# maybe this can be called inside the Occultation object because it fits the shape, calculate the offset,\n",
    "# then repeat the fit of the curve with a new occultation velocity relative to the limb"
   ]
  },
  {
   "cell_type": "markdown",
   "metadata": {},
   "source": [
    "#### defining ephemeris"
   ]
  },
  {
   "cell_type": "code",
   "execution_count": null,
   "metadata": {},
   "outputs": [],
   "source": [
    "ephem = Ephemeris('phoebe_sat375.txt') # reads files as the ephem_planete does\n",
    "#or\n",
    "ephem = Ephemeris('Phoebe', begin='2019-12-06 00:00:00', end='2019-12-07 00:00:00') # and it downloads the ephemeris from JPL"
   ]
  },
  {
   "cell_type": "code",
   "execution_count": null,
   "metadata": {},
   "outputs": [],
   "source": [
    "ephem.add_offset(10*u.mas, 8*u.mas)\n",
    "t = Time('2019-12-06 00:00:00', scale='utc')\n",
    "n_pos = ephem.get_position(t) # it calculates the function of ksi_eta if it hasn't\n",
    "n_pos = ephem.get_position('2019-12-06 00:00:00') # in this case I suggest to define a default in UTC or TDB, probably UTC\n",
    "ksi,eta = ephem.get_ksi_eta(t, star) #returns the ksi, eta"
   ]
  },
  {
   "cell_type": "markdown",
   "metadata": {},
   "source": [
    "#### Fazendo uma redução"
   ]
  },
  {
   "cell_type": "code",
   "execution_count": null,
   "metadata": {},
   "outputs": [],
   "source": [
    "reduc = Occultation(star, ephem)\n",
    "#or\n",
    "reduc = Occultation(star='13 50 45 -23 14 21', ephem='phoebe_sat375.txt')\n",
    "# in this case, it will automatically call Star and Ephemeris internally\n",
    "# I don't prefer this because we don't have direct access to the Star and Ephemeris objects."
   ]
  },
  {
   "cell_type": "code",
   "execution_count": null,
   "metadata": {},
   "outputs": [],
   "source": [
    "# adding observations\n",
    "reduc.add_observation(lna) # the input is the object defined above\n",
    "reduc.add_observation(opd)\n",
    "reduc.add_observation('511') # in this case, it will automatically call Observer internally\n",
    "# This creates a list in reduc with all observations added."
   ]
  },
  {
   "cell_type": "code",
   "execution_count": null,
   "metadata": {},
   "outputs": [],
   "source": [
    "reduc.fit_ellipse()\n",
    "#or\n",
    "reduc.fit_to_shape('3d_file.obj')\n",
    "# fit to a 3D shape model, but maybe in this case it would be interesting to have the 3d model as another object."
   ]
  },
  {
   "cell_type": "markdown",
   "metadata": {},
   "source": [
    "After doing this, let's say I want to test this reduction with another ephemeris, I could do"
   ]
  },
  {
   "cell_type": "code",
   "execution_count": null,
   "metadata": {},
   "outputs": [],
   "source": [
    "ephem2 = Ephemeris('phoebe_josselin.txt')\n",
    "reduc.ephem = ephem2\n",
    "reduc.fit_ellipse()\n",
    "# I don't need to add the observations or the star again\n",
    "\n",
    "# Probably, if I just do\n",
    "ephem = Ephemeris('phoebe_josselin.txt')\n",
    "# I don't need to inform reduc, because reduc already has a pointer to the \"ephem\" variable defined above, but I'm not sure."
   ]
  },
  {
   "cell_type": "markdown",
   "metadata": {},
   "source": [
    "Now, let's say I made an error in the longitude of the OPD, I can just"
   ]
  },
  {
   "cell_type": "code",
   "execution_count": null,
   "metadata": {},
   "outputs": [],
   "source": [
    "opd.lon = '-45 35 57'\n",
    "# since I already added opd to reduc, reduc will be updated as well."
   ]
  },
  {
   "cell_type": "markdown",
   "metadata": {},
   "source": [
    "Of course, all this example is not exact. We may change the name of the variables and methods of the object, and how they are accessed.\n",
    "But this gives us hints on how the code can be used."
   ]
  }
 ],
 "metadata": {
  "kernelspec": {
   "display_name": "Python 3",
   "language": "python",
   "name": "python3"
  },
  "language_info": {
   "codemirror_mode": {
    "name": "ipython",
    "version": 3
   },
   "file_extension": ".py",
   "mimetype": "text/x-python",
   "name": "python",
   "nbconvert_exporter": "python",
   "pygments_lexer": "ipython3",
   "version": "3.7.6"
  }
 },
 "nbformat": 4,
 "nbformat_minor": 4
}
